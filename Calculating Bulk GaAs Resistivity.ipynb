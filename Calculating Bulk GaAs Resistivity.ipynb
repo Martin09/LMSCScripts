{
 "cells": [
  {
   "cell_type": "markdown",
   "metadata": {},
   "source": [
    "Would like to try and calculate the expected resistance from a single GaAs nanomembrane:\n",
    "\n",
    "Found the intrinsic resistivity of GaAs from http://www.ioffe.ru/SVA/NSM/Semicond/GaAs/bandstr.html"
   ]
  },
  {
   "cell_type": "code",
   "execution_count": 4,
   "metadata": {},
   "outputs": [
    {
     "name": "stdout",
     "output_type": "stream",
     "text": [
      "The resistance from one nanomembrane should be about 1.52e+06 giga-ohms.\n"
     ]
    }
   ],
   "source": [
    "import numpy as np\n",
    "# Declare constants\n",
    "rho_i_gaas = 3.3E6 # Ohm*m\n",
    "L = 10E-6 #Use 10 micrometer contact spacing\n",
    "\n",
    "\n",
    "A_nm_cross_sec = (300E-9 * 70E-9) + (20E-9 * 70E-9 / 2.)\n",
    "\n",
    "R_NM = rho_i_gaas / A_nm_cross_sec * L\n",
    "print(\"The resistance from one nanomembrane should be about {:.3} giga-ohms.\".format(R_NM/1E9))"
   ]
  },
  {
   "cell_type": "markdown",
   "metadata": {},
   "source": [
    "Seems like the resistance for a single membrane of intrinsic GaAs is extremely high! Much higher than what we are measuring. Therefore, we should also include the resistance of the current path through the wafer:\n",
    "\n",
    "Since the contacts are much closer than the thickness of the GaAs substrate, have to use the semi-infinite volume approximation. Source: http://four-point-probes.com/notes-on-four-point-resistivity-measuring-with-jandel-equipment/"
   ]
  },
  {
   "cell_type": "code",
   "execution_count": 5,
   "metadata": {},
   "outputs": [
    {
     "name": "stdout",
     "output_type": "stream",
     "text": [
      "The resistance from the substrate should be about 35.0 giga-ohms.\n"
     ]
    }
   ],
   "source": [
    "rho_i_gaas_subs = 2.2E6 # Ohm*m (from the manufacturer of the wafers we use)\n",
    "\n",
    "R_subs = rho_i_gaas_subs / 2. / np.pi /L\n",
    "print(\"The resistance from the substrate should be about {:.3} giga-ohms.\".format(R_subs/1E9))"
   ]
  },
  {
   "cell_type": "markdown",
   "metadata": {},
   "source": [
    "Since we measure ~3.5 giga-ohm for an array of many membranes without InAs on them, this is on the order of what we would expect from the resistance of the substrate. We can therefore conclude that we have no conduction in the GaAs nanomembranes. The large majority of the conduction is through the substrate."
   ]
  },
  {
   "cell_type": "code",
   "execution_count": 6,
   "metadata": {},
   "outputs": [],
   "source": [
    ""
   ]
  },
  {
   "cell_type": "code",
   "execution_count": null,
   "metadata": {},
   "outputs": [],
   "source": [
    ""
   ]
  }
 ],
 "metadata": {
  "kernelspec": {
   "display_name": "Python 2",
   "language": "python",
   "name": "python2"
  },
  "language_info": {
   "codemirror_mode": {
    "name": "ipython",
    "version": 2.0
   },
   "file_extension": ".py",
   "mimetype": "text/x-python",
   "name": "python",
   "nbconvert_exporter": "python",
   "pygments_lexer": "ipython2",
   "version": "2.7.13"
  }
 },
 "nbformat": 4,
 "nbformat_minor": 0
}